{
 "cells": [
  {
   "cell_type": "code",
   "execution_count": 1,
   "metadata": {},
   "outputs": [],
   "source": [
    "import pickle\n",
    "import pandas as pd\n",
    "import numpy as np"
   ]
  },
  {
   "cell_type": "markdown",
   "metadata": {},
   "source": [
    "# create dataset for best picture"
   ]
  },
  {
   "cell_type": "code",
   "execution_count": 27,
   "metadata": {},
   "outputs": [
    {
     "name": "stderr",
     "output_type": "stream",
     "text": [
      "c:\\Users\\Nick\\Anaconda3\\envs\\NN\\lib\\site-packages\\pandas\\core\\strings.py:2001: UserWarning: This pattern has match groups. To actually get the groups, use str.extract.\n",
      "  return func(self, *args, **kwargs)\n"
     ]
    }
   ],
   "source": [
    "oscar_df = pd.read_csv(\"data/the_oscar_award.csv\")\n",
    "oscar_df = oscar_df[oscar_df['year_ceremony'] >= 1937]\n",
    "oscar_df['category'] = oscar_df['category'].str.lower() \n",
    "bp_mask = oscar_df['category'].str.contains('best|outstanding (motion)? picture')"
   ]
  },
  {
   "cell_type": "markdown",
   "metadata": {},
   "source": [
    "## Feature Engineering\n",
    "### Add Nominations and win count"
   ]
  },
  {
   "cell_type": "code",
   "execution_count": 28,
   "metadata": {},
   "outputs": [],
   "source": [
    "#create all masks\n",
    "actor_mask = oscar_df['category'].str.contains('actor( in a leading role)?$')\n",
    "actress_mask = oscar_df['category'].str.contains('actress( in a leading role)?$')\n",
    "director_mask = oscar_df['category'].str.contains('directing')\n",
    "writer_mask = oscar_df['category'].str.contains('writing.*screenplay')\n",
    "sup_actor_mask = oscar_df['category'].str.contains('actor in a supporting role')\n",
    "sup_actress_mask = oscar_df['category'].str.contains('actress in a supporting role')\n",
    "\n",
    "mask_dct = {\n",
    "    'actor': actor_mask,\n",
    "    'actress': actress_mask,\n",
    "    'director': director_mask,\n",
    "    'writer': writer_mask,\n",
    "    'sup_actor': sup_actor_mask,\n",
    "    'sup_actress': sup_actress_mask,\n",
    "    'best_picture': bp_mask,\n",
    "}\n",
    "\n",
    "for k,v in mask_dct.items():\n",
    "    oscar_df['category'] = np.where(v,k,oscar_df['category'])\n",
    "\n",
    "\n",
    "\n",
    "big5_mask = actor_mask | actress_mask | bp_mask | director_mask | writer_mask\n",
    "atl_mask = big5_mask | sup_actor_mask | sup_actress_mask"
   ]
  },
  {
   "cell_type": "code",
   "execution_count": 29,
   "metadata": {},
   "outputs": [],
   "source": [
    "noms = oscar_df.groupby(['year_film', 'film']).size().rename('noms')\n",
    "wins = oscar_df[oscar_df['winner']==True & ~bp_mask].groupby(['year_film', 'film'])['category'].nunique().rename('wins')\n",
    "\n",
    "big5_noms = oscar_df[big5_mask].groupby(['year_film', 'film'])['category'].nunique().rename('big5_noms')\n",
    "big5_wins = oscar_df[~bp_mask & big5_mask & oscar_df['winner']==True].groupby(['year_film', 'film'])['category'].nunique().rename('big5_wins')\n",
    "\n",
    "atl_noms = oscar_df[atl_mask].groupby(['year_film', 'film'])['category'].nunique().rename('atl_noms')\n",
    "atl_wins = oscar_df[~bp_mask & atl_mask & oscar_df['winner']==True].groupby(['year_film', 'film'])['category'].nunique().rename('atl_wins')\n",
    "\n",
    "for ser in (noms,wins,big5_noms,big5_wins,atl_noms,atl_wins):\n",
    "    oscar_df = pd.merge(oscar_df,ser,left_on=['year_film', 'film'],right_index=True,how='left')\n",
    "\n",
    "oscar_df[['wins','big5_wins','atl_wins']] = oscar_df[['wins','big5_wins','atl_wins']].fillna(0)\n"
   ]
  },
  {
   "cell_type": "code",
   "execution_count": 35,
   "metadata": {},
   "outputs": [],
   "source": [
    "noms_df = (~oscar_df[atl_mask].astype({'winner':int}).pivot_table(index=['year_ceremony','film'],columns='category',values='winner').isna())\n",
    "wins_df = (~oscar_df[atl_mask&(oscar_df['winner'])].astype({'winner':int}).pivot_table(index=['year_ceremony','film'],columns='category',values='wins').isna())\n",
    "\n",
    "#remove best_film from both datasets\n",
    "noms_df = noms_df.drop('best_picture',axis=1)\n",
    "wins_df = wins_df.drop('best_picture',axis=1)"
   ]
  },
  {
   "cell_type": "code",
   "execution_count": 37,
   "metadata": {},
   "outputs": [],
   "source": [
    "oscar_df = pd.merge(oscar_df,noms_df,left_on=['year_ceremony','film'],right_index=True,how='left',suffixes=('','_noms'))\n",
    "oscar_df = pd.merge(oscar_df,wins_df,left_on=['year_ceremony','film'],right_index=True,how='left',suffixes=('_noms','_wins'))\n"
   ]
  },
  {
   "cell_type": "code",
   "execution_count": 45,
   "metadata": {},
   "outputs": [],
   "source": [
    "oscar_df.isna().sum()\n",
    "oscar_df[['atl_noms','big5_noms']] = oscar_df[['atl_noms','big5_noms']].fillna(0)\n",
    "noms_wins_cols = oscar_df.columns[oscar_df.columns.str.contains('_wins|_noms$')]\n",
    "oscar_df[noms_wins_cols] = oscar_df[noms_wins_cols].fillna(False)"
   ]
  },
  {
   "cell_type": "markdown",
   "metadata": {},
   "source": [
    "## Filter Best Picture, remove data leakage, split data"
   ]
  },
  {
   "cell_type": "code",
   "execution_count": 82,
   "metadata": {},
   "outputs": [
    {
     "name": "stderr",
     "output_type": "stream",
     "text": [
      "c:\\Users\\Nick\\Anaconda3\\envs\\NN\\lib\\site-packages\\pandas\\core\\frame.py:3062: SettingWithCopyWarning: \n",
      "A value is trying to be set on a copy of a slice from a DataFrame.\n",
      "Try using .loc[row_indexer,col_indexer] = value instead\n",
      "\n",
      "See the caveats in the documentation: https://pandas.pydata.org/pandas-docs/stable/user_guide/indexing.html#returning-a-view-versus-a-copy\n",
      "  self[k1] = value[k2]\n"
     ]
    }
   ],
   "source": [
    "model_df = oscar_df[oscar_df['category']=='best_picture'].set_index(['year_ceremony','film']).drop('category',axis=1)\n",
    "model_df.drop(['year_film','ceremony','name'],axis=1,inplace=True)\n",
    "model_df = model_df.astype(int)\n",
    "\n",
    "\n",
    "#remove data leakage\n",
    "model_df[model_df['winner']==1][['wins','big5_wins','atl_wins']] = model_df[model_df['winner']==1][['wins','big5_wins','atl_wins']]"
   ]
  },
  {
   "cell_type": "code",
   "execution_count": 90,
   "metadata": {},
   "outputs": [],
   "source": [
    "test_mask = model_df.index.get_level_values(0) >= 2007\n",
    "\n",
    "train_df = model_df[~test_mask]\n",
    "test_df = model_df[test_mask]"
   ]
  },
  {
   "cell_type": "markdown",
   "metadata": {},
   "source": [
    "# Train Model"
   ]
  },
  {
   "cell_type": "code",
   "execution_count": 91,
   "metadata": {},
   "outputs": [
    {
     "name": "stderr",
     "output_type": "stream",
     "text": [
      "<ipython-input-91-c5098452f353>:5: SettingWithCopyWarning: \n",
      "A value is trying to be set on a copy of a slice from a DataFrame.\n",
      "Try using .loc[row_indexer,col_indexer] = value instead\n",
      "\n",
      "See the caveats in the documentation: https://pandas.pydata.org/pandas-docs/stable/user_guide/indexing.html#returning-a-view-versus-a-copy\n",
      "  test_df['predict'] = model.predict_proba(test_df.drop('winner',axis=1))[:,1]\n"
     ]
    }
   ],
   "source": [
    "from sklearn.naive_bayes import GaussianNB\n",
    "model = GaussianNB()\n",
    "model.fit(train_df.drop('winner',axis=1),train_df['winner'])\n",
    "\n",
    "test_df['predict'] = model.predict_proba(test_df.drop('winner',axis=1))[:,1]"
   ]
  },
  {
   "cell_type": "code",
   "execution_count": 92,
   "metadata": {},
   "outputs": [],
   "source": [
    "predictions = test_df.groupby('year_ceremony')['predict'].idxmax()\n",
    "actual = test_df.groupby('year_ceremony')['winner'].idxmax()"
   ]
  },
  {
   "cell_type": "code",
   "execution_count": 95,
   "metadata": {},
   "outputs": [
    {
     "data": {
      "text/plain": [
       "0.6470588235294118"
      ]
     },
     "execution_count": 95,
     "metadata": {},
     "output_type": "execute_result"
    }
   ],
   "source": [
    "(predictions == actual).sum()/len(predictions)"
   ]
  }
 ],
 "metadata": {
  "kernelspec": {
   "display_name": "NN",
   "language": "python",
   "name": "python3"
  },
  "language_info": {
   "codemirror_mode": {
    "name": "ipython",
    "version": 3
   },
   "file_extension": ".py",
   "mimetype": "text/x-python",
   "name": "python",
   "nbconvert_exporter": "python",
   "pygments_lexer": "ipython3",
   "version": "3.8.5"
  },
  "orig_nbformat": 4
 },
 "nbformat": 4,
 "nbformat_minor": 2
}
