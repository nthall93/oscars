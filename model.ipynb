{
 "cells": [
  {
   "cell_type": "code",
   "execution_count": 1,
   "metadata": {},
   "outputs": [],
   "source": [
    "import pickle\n",
    "import pandas as pd\n",
    "import numpy as np\n",
    "import matplotlib.pyplot as plt"
   ]
  },
  {
   "cell_type": "markdown",
   "metadata": {},
   "source": [
    "# create dataset for best picture"
   ]
  },
  {
   "cell_type": "code",
   "execution_count": 2,
   "metadata": {},
   "outputs": [
    {
     "name": "stderr",
     "output_type": "stream",
     "text": [
      "C:\\Users\\Nick\\AppData\\Local\\Temp\\ipykernel_11700\\3112563163.py:4: UserWarning: This pattern is interpreted as a regular expression, and has match groups. To actually get the groups, use str.extract.\n",
      "  bp_mask = oscar_df['category'].str.contains('best|outstanding (motion)? picture')\n"
     ]
    }
   ],
   "source": [
    "oscar_df = pd.read_csv(\"data/the_oscar_award.csv\")\n",
    "oscar_df = oscar_df[oscar_df['year_ceremony'] >= 1937]\n",
    "oscar_df['category'] = oscar_df['category'].str.lower() \n",
    "bp_mask = oscar_df['category'].str.contains('best|outstanding (motion)? picture')"
   ]
  },
  {
   "cell_type": "markdown",
   "metadata": {},
   "source": [
    "## Feature Engineering\n",
    "### Add Nominations and win count"
   ]
  },
  {
   "cell_type": "code",
   "execution_count": 3,
   "metadata": {},
   "outputs": [
    {
     "name": "stderr",
     "output_type": "stream",
     "text": [
      "C:\\Users\\Nick\\AppData\\Local\\Temp\\ipykernel_11700\\2362575656.py:2: UserWarning: This pattern is interpreted as a regular expression, and has match groups. To actually get the groups, use str.extract.\n",
      "  actor_mask = oscar_df['category'].str.contains('actor( in a leading role)?$')\n",
      "C:\\Users\\Nick\\AppData\\Local\\Temp\\ipykernel_11700\\2362575656.py:3: UserWarning: This pattern is interpreted as a regular expression, and has match groups. To actually get the groups, use str.extract.\n",
      "  actress_mask = oscar_df['category'].str.contains('actress( in a leading role)?$')\n"
     ]
    }
   ],
   "source": [
    "#create all masks\n",
    "actor_mask = oscar_df['category'].str.contains('actor( in a leading role)?$')\n",
    "actress_mask = oscar_df['category'].str.contains('actress( in a leading role)?$')\n",
    "director_mask = oscar_df['category'].str.contains('directing')\n",
    "writer_mask = oscar_df['category'].str.contains('writing.*screenplay')\n",
    "sup_actor_mask = oscar_df['category'].str.contains('actor in a supporting role')\n",
    "sup_actress_mask = oscar_df['category'].str.contains('actress in a supporting role')\n",
    "\n",
    "mask_dct = {\n",
    "    'actor': actor_mask,\n",
    "    'actress': actress_mask,\n",
    "    'director': director_mask,\n",
    "    'writer': writer_mask,\n",
    "    'sup_actor': sup_actor_mask,\n",
    "    'sup_actress': sup_actress_mask,\n",
    "    'best_picture': bp_mask,\n",
    "}\n",
    "\n",
    "for k,v in mask_dct.items():\n",
    "    oscar_df['category'] = np.where(v,k,oscar_df['category'])\n",
    "\n",
    "\n",
    "\n",
    "big5_mask = actor_mask | actress_mask | bp_mask | director_mask | writer_mask\n",
    "atl_mask = big5_mask | sup_actor_mask | sup_actress_mask"
   ]
  },
  {
   "cell_type": "code",
   "execution_count": 4,
   "metadata": {},
   "outputs": [],
   "source": [
    "noms = oscar_df.groupby(['year_film', 'film']).size().rename('noms')\n",
    "wins = oscar_df[oscar_df['winner']==True & ~bp_mask].groupby(['year_film', 'film'])['category'].nunique().rename('wins')\n",
    "\n",
    "big5_noms = oscar_df[big5_mask].groupby(['year_film', 'film'])['category'].nunique().rename('big5_noms')\n",
    "big5_wins = oscar_df[~bp_mask & big5_mask & oscar_df['winner']==True].groupby(['year_film', 'film'])['category'].nunique().rename('big5_wins')\n",
    "\n",
    "atl_noms = oscar_df[atl_mask].groupby(['year_film', 'film'])['category'].nunique().rename('atl_noms')\n",
    "atl_wins = oscar_df[~bp_mask & atl_mask & oscar_df['winner']==True].groupby(['year_film', 'film'])['category'].nunique().rename('atl_wins')\n",
    "\n",
    "for ser in (noms,wins,big5_noms,big5_wins,atl_noms,atl_wins):\n",
    "    oscar_df = pd.merge(oscar_df,ser,left_on=['year_film', 'film'],right_index=True,how='left')\n",
    "\n",
    "oscar_df[['wins','big5_wins','atl_wins']] = oscar_df[['wins','big5_wins','atl_wins']].fillna(0)\n"
   ]
  },
  {
   "cell_type": "code",
   "execution_count": 5,
   "metadata": {},
   "outputs": [],
   "source": [
    "noms_df = (~oscar_df[atl_mask].astype({'winner':int}).pivot_table(index=['year_ceremony','film'],columns='category',values='winner').isna())\n",
    "wins_df = (~oscar_df[atl_mask&(oscar_df['winner'])].astype({'winner':int}).pivot_table(index=['year_ceremony','film'],columns='category',values='wins').isna())\n",
    "\n",
    "#remove best_film from both datasets\n",
    "noms_df = noms_df.drop('best_picture',axis=1)\n",
    "wins_df = wins_df.drop('best_picture',axis=1)"
   ]
  },
  {
   "cell_type": "code",
   "execution_count": 6,
   "metadata": {},
   "outputs": [],
   "source": [
    "oscar_df = pd.merge(oscar_df,noms_df,left_on=['year_ceremony','film'],right_index=True,how='left',suffixes=('','_noms'))\n",
    "oscar_df = pd.merge(oscar_df,wins_df,left_on=['year_ceremony','film'],right_index=True,how='left',suffixes=('_noms','_wins'))\n"
   ]
  },
  {
   "cell_type": "code",
   "execution_count": 7,
   "metadata": {},
   "outputs": [],
   "source": [
    "oscar_df.isna().sum()\n",
    "oscar_df[['atl_noms','big5_noms']] = oscar_df[['atl_noms','big5_noms']].fillna(0)\n",
    "noms_wins_cols = oscar_df.columns[oscar_df.columns.str.contains('_wins|_noms$')]\n",
    "oscar_df[noms_wins_cols] = oscar_df[noms_wins_cols].fillna(False)"
   ]
  },
  {
   "cell_type": "markdown",
   "metadata": {},
   "source": [
    "## Filter Best Picture, remove data leakage, split data"
   ]
  },
  {
   "cell_type": "code",
   "execution_count": 8,
   "metadata": {},
   "outputs": [
    {
     "name": "stderr",
     "output_type": "stream",
     "text": [
      "C:\\Users\\Nick\\AppData\\Local\\Temp\\ipykernel_11700\\4136675931.py:7: SettingWithCopyWarning: \n",
      "A value is trying to be set on a copy of a slice from a DataFrame.\n",
      "Try using .loc[row_indexer,col_indexer] = value instead\n",
      "\n",
      "See the caveats in the documentation: https://pandas.pydata.org/pandas-docs/stable/user_guide/indexing.html#returning-a-view-versus-a-copy\n",
      "  model_df[model_df['winner']==1][['wins','big5_wins','atl_wins']] = model_df[model_df['winner']==1][['wins','big5_wins','atl_wins']]\n"
     ]
    }
   ],
   "source": [
    "model_df = oscar_df[oscar_df['category']=='best_picture'].set_index(['year_ceremony','film']).drop('category',axis=1)\n",
    "model_df.drop(['year_film','ceremony','name'],axis=1,inplace=True)\n",
    "model_df = model_df.astype(int)\n",
    "\n",
    "\n",
    "#remove data leakage\n",
    "model_df[model_df['winner']==1][['wins','big5_wins','atl_wins']] = model_df[model_df['winner']==1][['wins','big5_wins','atl_wins']]"
   ]
  },
  {
   "cell_type": "code",
   "execution_count": 32,
   "metadata": {},
   "outputs": [],
   "source": [
    "test_mask = model_df.index.get_level_values(0) >= 2007\n",
    "\n",
    "train_df = model_df[~test_mask]\n",
    "test_df = model_df[test_mask]"
   ]
  },
  {
   "cell_type": "markdown",
   "metadata": {},
   "source": [
    "# Train Model"
   ]
  },
  {
   "cell_type": "code",
   "execution_count": 33,
   "metadata": {},
   "outputs": [
    {
     "name": "stderr",
     "output_type": "stream",
     "text": [
      "C:\\Users\\Nick\\AppData\\Local\\Temp\\ipykernel_11700\\902639753.py:5: SettingWithCopyWarning: \n",
      "A value is trying to be set on a copy of a slice from a DataFrame.\n",
      "Try using .loc[row_indexer,col_indexer] = value instead\n",
      "\n",
      "See the caveats in the documentation: https://pandas.pydata.org/pandas-docs/stable/user_guide/indexing.html#returning-a-view-versus-a-copy\n",
      "  test_df['predict'] = model.predict_proba(test_df.drop('winner',axis=1))[:,1]\n"
     ]
    }
   ],
   "source": [
    "from sklearn.naive_bayes import GaussianNB, MultinomialNB\n",
    "model = GaussianNB()\n",
    "model.fit(train_df.drop('winner',axis=1),train_df['winner'])\n",
    "\n",
    "test_df['predict'] = model.predict_proba(test_df.drop('winner',axis=1))[:,1]"
   ]
  },
  {
   "cell_type": "code",
   "execution_count": 34,
   "metadata": {},
   "outputs": [],
   "source": [
    "predictions = test_df.groupby('year_ceremony')['predict'].idxmax()\n",
    "actual = test_df.groupby('year_ceremony')['winner'].idxmax()"
   ]
  },
  {
   "cell_type": "code",
   "execution_count": 35,
   "metadata": {},
   "outputs": [
    {
     "data": {
      "text/plain": [
       "0.6470588235294118"
      ]
     },
     "execution_count": 35,
     "metadata": {},
     "output_type": "execute_result"
    }
   ],
   "source": [
    "(predictions == actual).sum()/len(predictions)"
   ]
  },
  {
   "cell_type": "code",
   "execution_count": 36,
   "metadata": {},
   "outputs": [
    {
     "data": {
      "text/html": [
       "<div>\n",
       "<style scoped>\n",
       "    .dataframe tbody tr th:only-of-type {\n",
       "        vertical-align: middle;\n",
       "    }\n",
       "\n",
       "    .dataframe tbody tr th {\n",
       "        vertical-align: top;\n",
       "    }\n",
       "\n",
       "    .dataframe thead th {\n",
       "        text-align: right;\n",
       "    }\n",
       "</style>\n",
       "<table border=\"1\" class=\"dataframe\">\n",
       "  <thead>\n",
       "    <tr style=\"text-align: right;\">\n",
       "      <th></th>\n",
       "      <th>predict</th>\n",
       "      <th>winner</th>\n",
       "    </tr>\n",
       "    <tr>\n",
       "      <th>year_ceremony</th>\n",
       "      <th></th>\n",
       "      <th></th>\n",
       "    </tr>\n",
       "  </thead>\n",
       "  <tbody>\n",
       "    <tr>\n",
       "      <th>2007</th>\n",
       "      <td>(2007, The Departed)</td>\n",
       "      <td>(2007, The Departed)</td>\n",
       "    </tr>\n",
       "    <tr>\n",
       "      <th>2008</th>\n",
       "      <td>(2008, No Country for Old Men)</td>\n",
       "      <td>(2008, No Country for Old Men)</td>\n",
       "    </tr>\n",
       "    <tr>\n",
       "      <th>2009</th>\n",
       "      <td>(2009, Slumdog Millionaire)</td>\n",
       "      <td>(2009, Slumdog Millionaire)</td>\n",
       "    </tr>\n",
       "    <tr>\n",
       "      <th>2010</th>\n",
       "      <td>(2010, The Hurt Locker)</td>\n",
       "      <td>(2010, The Hurt Locker)</td>\n",
       "    </tr>\n",
       "    <tr>\n",
       "      <th>2011</th>\n",
       "      <td>(2011, The King's Speech)</td>\n",
       "      <td>(2011, The King's Speech)</td>\n",
       "    </tr>\n",
       "    <tr>\n",
       "      <th>2012</th>\n",
       "      <td>(2012, The Artist)</td>\n",
       "      <td>(2012, The Artist)</td>\n",
       "    </tr>\n",
       "    <tr>\n",
       "      <th>2013</th>\n",
       "      <td>(2013, Life of Pi)</td>\n",
       "      <td>(2013, Argo)</td>\n",
       "    </tr>\n",
       "    <tr>\n",
       "      <th>2014</th>\n",
       "      <td>(2014, Gravity)</td>\n",
       "      <td>(2014, 12 Years a Slave)</td>\n",
       "    </tr>\n",
       "    <tr>\n",
       "      <th>2015</th>\n",
       "      <td>(2015, Birdman or (The Unexpected Virtue of Ig...</td>\n",
       "      <td>(2015, Birdman or (The Unexpected Virtue of Ig...</td>\n",
       "    </tr>\n",
       "    <tr>\n",
       "      <th>2016</th>\n",
       "      <td>(2016, The Revenant)</td>\n",
       "      <td>(2016, Spotlight)</td>\n",
       "    </tr>\n",
       "    <tr>\n",
       "      <th>2017</th>\n",
       "      <td>(2017, La La Land)</td>\n",
       "      <td>(2017, Moonlight)</td>\n",
       "    </tr>\n",
       "    <tr>\n",
       "      <th>2018</th>\n",
       "      <td>(2018, The Shape of Water)</td>\n",
       "      <td>(2018, The Shape of Water)</td>\n",
       "    </tr>\n",
       "    <tr>\n",
       "      <th>2019</th>\n",
       "      <td>(2019, Roma)</td>\n",
       "      <td>(2019, Green Book)</td>\n",
       "    </tr>\n",
       "    <tr>\n",
       "      <th>2020</th>\n",
       "      <td>(2020, Parasite)</td>\n",
       "      <td>(2020, Parasite)</td>\n",
       "    </tr>\n",
       "    <tr>\n",
       "      <th>2021</th>\n",
       "      <td>(2021, Nomadland)</td>\n",
       "      <td>(2021, Nomadland)</td>\n",
       "    </tr>\n",
       "    <tr>\n",
       "      <th>2022</th>\n",
       "      <td>(2022, The Power of the Dog)</td>\n",
       "      <td>(2022, CODA)</td>\n",
       "    </tr>\n",
       "    <tr>\n",
       "      <th>2023</th>\n",
       "      <td>(2023, Everything Everywhere All at Once)</td>\n",
       "      <td>(2023, Everything Everywhere All at Once)</td>\n",
       "    </tr>\n",
       "  </tbody>\n",
       "</table>\n",
       "</div>"
      ],
      "text/plain": [
       "                                                         predict  \\\n",
       "year_ceremony                                                      \n",
       "2007                                        (2007, The Departed)   \n",
       "2008                              (2008, No Country for Old Men)   \n",
       "2009                                 (2009, Slumdog Millionaire)   \n",
       "2010                                     (2010, The Hurt Locker)   \n",
       "2011                                   (2011, The King's Speech)   \n",
       "2012                                          (2012, The Artist)   \n",
       "2013                                          (2013, Life of Pi)   \n",
       "2014                                             (2014, Gravity)   \n",
       "2015           (2015, Birdman or (The Unexpected Virtue of Ig...   \n",
       "2016                                        (2016, The Revenant)   \n",
       "2017                                          (2017, La La Land)   \n",
       "2018                                  (2018, The Shape of Water)   \n",
       "2019                                                (2019, Roma)   \n",
       "2020                                            (2020, Parasite)   \n",
       "2021                                           (2021, Nomadland)   \n",
       "2022                                (2022, The Power of the Dog)   \n",
       "2023                   (2023, Everything Everywhere All at Once)   \n",
       "\n",
       "                                                          winner  \n",
       "year_ceremony                                                     \n",
       "2007                                        (2007, The Departed)  \n",
       "2008                              (2008, No Country for Old Men)  \n",
       "2009                                 (2009, Slumdog Millionaire)  \n",
       "2010                                     (2010, The Hurt Locker)  \n",
       "2011                                   (2011, The King's Speech)  \n",
       "2012                                          (2012, The Artist)  \n",
       "2013                                                (2013, Argo)  \n",
       "2014                                    (2014, 12 Years a Slave)  \n",
       "2015           (2015, Birdman or (The Unexpected Virtue of Ig...  \n",
       "2016                                           (2016, Spotlight)  \n",
       "2017                                           (2017, Moonlight)  \n",
       "2018                                  (2018, The Shape of Water)  \n",
       "2019                                          (2019, Green Book)  \n",
       "2020                                            (2020, Parasite)  \n",
       "2021                                           (2021, Nomadland)  \n",
       "2022                                                (2022, CODA)  \n",
       "2023                   (2023, Everything Everywhere All at Once)  "
      ]
     },
     "execution_count": 36,
     "metadata": {},
     "output_type": "execute_result"
    }
   ],
   "source": [
    "pd.concat([predictions,actual],axis = 1)"
   ]
  },
  {
   "attachments": {},
   "cell_type": "markdown",
   "metadata": {},
   "source": [
    "## Create Probability Distribution for each variable\n",
    "By training a naive bayes model, the algorithm creates the probability distributions it believes to be the most accurate to predict the outcome. ie how likely will a movie win an oscar if it gets 0 other nominations, vs 1, 2 etc.\n",
    "\n",
    "These can be useful to plot and then interpret"
   ]
  },
  {
   "cell_type": "code",
   "execution_count": 92,
   "metadata": {},
   "outputs": [
    {
     "data": {
      "text/html": [
       "<div>\n",
       "<style scoped>\n",
       "    .dataframe tbody tr th:only-of-type {\n",
       "        vertical-align: middle;\n",
       "    }\n",
       "\n",
       "    .dataframe tbody tr th {\n",
       "        vertical-align: top;\n",
       "    }\n",
       "\n",
       "    .dataframe thead th {\n",
       "        text-align: right;\n",
       "    }\n",
       "</style>\n",
       "<table border=\"1\" class=\"dataframe\">\n",
       "  <thead>\n",
       "    <tr style=\"text-align: right;\">\n",
       "      <th></th>\n",
       "      <th>theta</th>\n",
       "      <th>var</th>\n",
       "      <th>min</th>\n",
       "      <th>max</th>\n",
       "    </tr>\n",
       "  </thead>\n",
       "  <tbody>\n",
       "    <tr>\n",
       "      <th>noms</th>\n",
       "      <td>9.538462</td>\n",
       "      <td>4.740828</td>\n",
       "      <td>1.0</td>\n",
       "      <td>14.0</td>\n",
       "    </tr>\n",
       "    <tr>\n",
       "      <th>wins</th>\n",
       "      <td>4.723077</td>\n",
       "      <td>4.446391</td>\n",
       "      <td>1.0</td>\n",
       "      <td>10.0</td>\n",
       "    </tr>\n",
       "    <tr>\n",
       "      <th>big5_noms</th>\n",
       "      <td>3.923077</td>\n",
       "      <td>0.440237</td>\n",
       "      <td>1.0</td>\n",
       "      <td>5.0</td>\n",
       "    </tr>\n",
       "    <tr>\n",
       "      <th>big5_wins</th>\n",
       "      <td>1.969231</td>\n",
       "      <td>0.829822</td>\n",
       "      <td>0.0</td>\n",
       "      <td>4.0</td>\n",
       "    </tr>\n",
       "    <tr>\n",
       "      <th>atl_noms</th>\n",
       "      <td>4.923077</td>\n",
       "      <td>1.117160</td>\n",
       "      <td>1.0</td>\n",
       "      <td>7.0</td>\n",
       "    </tr>\n",
       "    <tr>\n",
       "      <th>atl_wins</th>\n",
       "      <td>2.338462</td>\n",
       "      <td>1.023905</td>\n",
       "      <td>0.0</td>\n",
       "      <td>5.0</td>\n",
       "    </tr>\n",
       "    <tr>\n",
       "      <th>actor_noms</th>\n",
       "      <td>0.692308</td>\n",
       "      <td>0.213018</td>\n",
       "      <td>0.0</td>\n",
       "      <td>1.0</td>\n",
       "    </tr>\n",
       "    <tr>\n",
       "      <th>actress_noms</th>\n",
       "      <td>0.307692</td>\n",
       "      <td>0.213018</td>\n",
       "      <td>0.0</td>\n",
       "      <td>1.0</td>\n",
       "    </tr>\n",
       "    <tr>\n",
       "      <th>director_noms</th>\n",
       "      <td>0.984615</td>\n",
       "      <td>0.015148</td>\n",
       "      <td>0.0</td>\n",
       "      <td>1.0</td>\n",
       "    </tr>\n",
       "    <tr>\n",
       "      <th>sup_actor_noms</th>\n",
       "      <td>0.630769</td>\n",
       "      <td>0.232899</td>\n",
       "      <td>0.0</td>\n",
       "      <td>1.0</td>\n",
       "    </tr>\n",
       "    <tr>\n",
       "      <th>sup_actress_noms</th>\n",
       "      <td>0.369231</td>\n",
       "      <td>0.232899</td>\n",
       "      <td>0.0</td>\n",
       "      <td>1.0</td>\n",
       "    </tr>\n",
       "    <tr>\n",
       "      <th>writer_noms</th>\n",
       "      <td>0.938462</td>\n",
       "      <td>0.057751</td>\n",
       "      <td>0.0</td>\n",
       "      <td>1.0</td>\n",
       "    </tr>\n",
       "    <tr>\n",
       "      <th>actor_wins</th>\n",
       "      <td>0.369231</td>\n",
       "      <td>0.232899</td>\n",
       "      <td>0.0</td>\n",
       "      <td>1.0</td>\n",
       "    </tr>\n",
       "    <tr>\n",
       "      <th>actress_wins</th>\n",
       "      <td>0.123077</td>\n",
       "      <td>0.107929</td>\n",
       "      <td>0.0</td>\n",
       "      <td>1.0</td>\n",
       "    </tr>\n",
       "    <tr>\n",
       "      <th>director_wins</th>\n",
       "      <td>0.800000</td>\n",
       "      <td>0.160000</td>\n",
       "      <td>0.0</td>\n",
       "      <td>1.0</td>\n",
       "    </tr>\n",
       "    <tr>\n",
       "      <th>sup_actor_wins</th>\n",
       "      <td>0.200000</td>\n",
       "      <td>0.160000</td>\n",
       "      <td>0.0</td>\n",
       "      <td>1.0</td>\n",
       "    </tr>\n",
       "    <tr>\n",
       "      <th>sup_actress_wins</th>\n",
       "      <td>0.169231</td>\n",
       "      <td>0.140592</td>\n",
       "      <td>0.0</td>\n",
       "      <td>1.0</td>\n",
       "    </tr>\n",
       "    <tr>\n",
       "      <th>writer_wins</th>\n",
       "      <td>0.676923</td>\n",
       "      <td>0.218698</td>\n",
       "      <td>0.0</td>\n",
       "      <td>1.0</td>\n",
       "    </tr>\n",
       "  </tbody>\n",
       "</table>\n",
       "</div>"
      ],
      "text/plain": [
       "                     theta       var  min   max\n",
       "noms              9.538462  4.740828  1.0  14.0\n",
       "wins              4.723077  4.446391  1.0  10.0\n",
       "big5_noms         3.923077  0.440237  1.0   5.0\n",
       "big5_wins         1.969231  0.829822  0.0   4.0\n",
       "atl_noms          4.923077  1.117160  1.0   7.0\n",
       "atl_wins          2.338462  1.023905  0.0   5.0\n",
       "actor_noms        0.692308  0.213018  0.0   1.0\n",
       "actress_noms      0.307692  0.213018  0.0   1.0\n",
       "director_noms     0.984615  0.015148  0.0   1.0\n",
       "sup_actor_noms    0.630769  0.232899  0.0   1.0\n",
       "sup_actress_noms  0.369231  0.232899  0.0   1.0\n",
       "writer_noms       0.938462  0.057751  0.0   1.0\n",
       "actor_wins        0.369231  0.232899  0.0   1.0\n",
       "actress_wins      0.123077  0.107929  0.0   1.0\n",
       "director_wins     0.800000  0.160000  0.0   1.0\n",
       "sup_actor_wins    0.200000  0.160000  0.0   1.0\n",
       "sup_actress_wins  0.169231  0.140592  0.0   1.0\n",
       "writer_wins       0.676923  0.218698  0.0   1.0"
      ]
     },
     "execution_count": 92,
     "metadata": {},
     "output_type": "execute_result"
    }
   ],
   "source": [
    "#first get the parameters and put them in a dataframe\n",
    "\n",
    "#[1] is selected to reflect the distributions for predicting winning the award\n",
    "var_df = pd.DataFrame({'theta':model.theta_[1],'var':model.var_[1]},index=model.feature_names_in_)\n",
    "\n",
    "#add min, max for every variable. This will be needed for plots later\n",
    "mm_df = model_df.describe().loc[['min','max'],var_df.index].T\n",
    "var_df = pd.merge(var_df,mm_df,left_index=True,right_index=True)\n",
    "var_df"
   ]
  },
  {
   "cell_type": "markdown",
   "metadata": {},
   "source": []
  },
  {
   "cell_type": "code",
   "execution_count": 140,
   "metadata": {},
   "outputs": [
    {
     "data": {
      "image/png": "[encoded data removed]",
      "text/plain": [
       "<Figure size 2000x2000 with 20 Axes>"
      ]
     },
     "metadata": {},
     "output_type": "display_data"
    }
   ],
   "source": [
    "def calc_prob(prior,theta,var,x):\n",
    "    #calculate the probability of y given the parameters\n",
    "\n",
    "    \n",
    "    log_prior = np.log(prior)\n",
    "    n_ij = -0.5 * np.sum(np.log(2.0 * np.pi * var))\n",
    "    n_ij -= 0.5 * ((x - theta) ** 2) / (var)\n",
    "    p = np.exp(log_prior + n_ij)\n",
    "\n",
    "    return p\n",
    "\n",
    "\n",
    "\n",
    "prior = model.class_prior_[1]\n",
    "\n",
    "#plot the distributions in a grid\n",
    "fig, axes = plt.subplots(4,int(np.ceil(var_df.shape[0]/4)),figsize=(20,20),sharey=True)\n",
    "first= True\n",
    "for (ax, (var_name,ser)) in zip(axes.flatten(),var_df.iterrows()):\n",
    "    \n",
    "    #data is discrete so only plot integers including the max value\n",
    "    x = np.arange(ser['min'],ser['max']+1)\n",
    "    \n",
    "    y = calc_prob(prior,ser['theta'],ser['var'],x)\n",
    "    ax.bar(x,y.cumsum(),label='variable')\n",
    "    ax.axhline(prior,linestyle='--',color='grey',label='prior')\n",
    "    ax.set_title(var_name)\n",
    "    if first:\n",
    "        first = False\n",
    "        ax.legend()\n",
    "\n",
    "plt.show()"
   ]
  },
  {
   "cell_type": "code",
   "execution_count": null,
   "metadata": {},
   "outputs": [],
   "source": []
  },
  {
   "attachments": {},
   "cell_type": "markdown",
   "metadata": {},
   "source": [
    "## Observations\n",
    "* Director nominations have the greatest impact improving the odds of winning Best Picture Oscar\n",
    "* Actor nominations and wins have a greater influence at predicting a winner than actress. Quite shockingly, a film winning best actress does not seem to impact the likelihood of winning a Best Picture at all.\n",
    "* Not having a nomination for best screenplay lowers the chance at winning the oscar"
   ]
  },
  {
   "cell_type": "code",
   "execution_count": 145,
   "metadata": {},
   "outputs": [
    {
     "data": {
      "text/plain": [
       "0    0.808824\n",
       "1    0.191176\n",
       "Name: winner, dtype: float64"
      ]
     },
     "execution_count": 145,
     "metadata": {},
     "output_type": "execute_result"
    }
   ],
   "source": [
    "#normalised count of winners vs. non winners\n",
    "train_df['winner'].value_counts(normalize=True)"
   ]
  },
  {
   "cell_type": "code",
   "execution_count": 160,
   "metadata": {},
   "outputs": [
    {
     "data": {
      "text/plain": [
       "0    0.990476\n",
       "1    0.009524\n",
       "Name: winner, dtype: float64"
      ]
     },
     "execution_count": 160,
     "metadata": {},
     "output_type": "execute_result"
    }
   ],
   "source": [
    "#normalised count of winners vs. non winners where film had 0 director nominations\n",
    "\n",
    "train_df[(train_df['director_noms']==0)]['winner'].value_counts(normalize=True)"
   ]
  },
  {
   "cell_type": "code",
   "execution_count": 158,
   "metadata": {},
   "outputs": [
    {
     "data": {
      "text/plain": [
       "0    0.809524\n",
       "1    0.190476\n",
       "Name: winner, dtype: float64"
      ]
     },
     "execution_count": 158,
     "metadata": {},
     "output_type": "execute_result"
    }
   ],
   "source": [
    "#normalised count of winners vs. non winners where film won best actress\n",
    "\n",
    "train_df[(train_df['actress_wins']==1)]['winner'].value_counts(normalize=True)"
   ]
  }
 ],
 "metadata": {
  "kernelspec": {
   "display_name": "base",
   "language": "python",
   "name": "python3"
  },
  "language_info": {
   "codemirror_mode": {
    "name": "ipython",
    "version": 3
   },
   "file_extension": ".py",
   "mimetype": "text/x-python",
   "name": "python",
   "nbconvert_exporter": "python",
   "pygments_lexer": "ipython3",
   "version": "3.8.16"
  },
  "orig_nbformat": 4,
  "vscode": {
   "interpreter": {
    "hash": "91bb753b057673435fb8d6f6a083e6c818364728098c7ae050ca3a25357dd754"
   }
  }
 },
 "nbformat": 4,
 "nbformat_minor": 2
}
